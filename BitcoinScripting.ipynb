{
  "cells": [
    {
      "cell_type": "markdown",
      "metadata": {
        "id": "ozl83oWPt3SX"
      },
      "source": [
        "#Homework 1\n",
        "\n",
        "In this HW,  you will create bitcoin transactions."
      ]
    },
    {
      "cell_type": "markdown",
      "metadata": {
        "id": "XuQSG7dnuzZL"
      },
      "source": [
        "Lets first install **python-bitcoinlib** which we will use to connect to the Bitcoin network and to generate a public-private key pair."
      ]
    },
    {
      "cell_type": "code",
      "execution_count": 1,
      "metadata": {
        "colab": {
          "base_uri": "https://localhost:8080/"
        },
        "id": "AZ8205Z0teKT",
        "outputId": "24ffb8f5-1d6c-4efe-c587-16bd814c5d7c"
      },
      "outputs": [
        {
          "name": "stdout",
          "output_type": "stream",
          "text": [
            "Collecting python-bitcoinlib\n",
            "  Downloading python_bitcoinlib-0.12.2-py3-none-any.whl (106 kB)\n",
            "\u001b[2K     \u001b[90m━━━━━━━━━━━━━━━━━━━━━━━━━━━━━━━━━━━━━━━━\u001b[0m \u001b[32m107.0/107.0 kB\u001b[0m \u001b[31m1.6 MB/s\u001b[0m eta \u001b[36m0:00:00\u001b[0m\n",
            "\u001b[?25hInstalling collected packages: python-bitcoinlib\n",
            "Successfully installed python-bitcoinlib-0.12.2\n",
            "Requirement already satisfied: requests in /usr/local/lib/python3.10/dist-packages (2.31.0)\n",
            "Requirement already satisfied: charset-normalizer<4,>=2 in /usr/local/lib/python3.10/dist-packages (from requests) (3.3.2)\n",
            "Requirement already satisfied: idna<4,>=2.5 in /usr/local/lib/python3.10/dist-packages (from requests) (3.6)\n",
            "Requirement already satisfied: urllib3<3,>=1.21.1 in /usr/local/lib/python3.10/dist-packages (from requests) (2.0.7)\n",
            "Requirement already satisfied: certifi>=2017.4.17 in /usr/local/lib/python3.10/dist-packages (from requests) (2024.2.2)\n"
          ]
        }
      ],
      "source": [
        "!pip install python-bitcoinlib\n",
        "!pip install requests"
      ]
    },
    {
      "cell_type": "markdown",
      "metadata": {
        "id": "ytyClq4bvLMU"
      },
      "source": [
        "Lets create a Bitcoin address and accompanying private key for ourselves with the code below."
      ]
    },
    {
      "cell_type": "code",
      "execution_count": 2,
      "metadata": {
        "colab": {
          "base_uri": "https://localhost:8080/"
        },
        "id": "I-e8oa2LvK1Q",
        "outputId": "e5d155ae-4363-462d-b31a-281c429a5814"
      },
      "outputs": [
        {
          "name": "stdout",
          "output_type": "stream",
          "text": [
            "Private key: cPt9QpLmQ3f3iUXFH1ozrcCWnmJ9g1jmFs1ehf6rbvi513m4Ss4Z\n",
            "Address: mheAPH8vaH6PaeNiiKSFxKDTTr91Si3nkV\n"
          ]
        }
      ],
      "source": [
        "from os import urandom\n",
        "from bitcoin import SelectParams\n",
        "from bitcoin.wallet import CBitcoinSecret, P2PKHBitcoinAddress\n",
        "\n",
        "SelectParams('testnet')\n",
        "\n",
        "seckey = CBitcoinSecret.from_secret_bytes(urandom(32))\n",
        "#cPt9QpLmQ3f3iUXFH1ozrcCWnmJ9g1jmFs1ehf6rbvi513m4Ss4Z send back to: tb1qerzrlxcfu24davlur5sqmgzzgsal6wusda40er faucet\n",
        "\n",
        "print(\"Private key: %s\" % seckey)\n",
        "print(\"Address: %s\" %P2PKHBitcoinAddress.from_pubkey(seckey.pub))"
      ]
    },
    {
      "cell_type": "markdown",
      "metadata": {
        "id": "vPwxBNKjwN9q"
      },
      "source": [
        "Save this information to somewhere. Otherwise, it may dissappear if you  accidentally erase it and get disconnected. You will not be able to access it later.\n",
        "\n",
        "Now with this address, we can get free testnet coins from the coin faucet. Click [here](https://coinfaucet.eu/en/btc-testnet/) to get some free coins on the *Bitcoin test network*. Note that it is a nice thing to send back the bitcoin's you got to the faucet.\n",
        "\n",
        "Once you click the button, a transaction, which is a P2PKH transaction, will be generated and sent to the Bitcoin Test network (by the faucet). One of the outputs of this transaction will be for your Public Key Hash. That output will be our main UTXO to spend."
      ]
    },
    {
      "cell_type": "markdown",
      "metadata": {
        "id": "4Rl612UewXyb"
      },
      "source": [
        "Before continuing for the exercises, lets configure our Python environment with our public and private key pair. This is nothing fancy; we just set some variables' values to be used later in the codes and the exercises in the rest of this notebook.\n",
        "\n",
        "Note that we will use the same bitcoin address, the one we created above, to correctly configure our environment."
      ]
    },
    {
      "cell_type": "code",
      "execution_count": 18,
      "metadata": {
        "colab": {
          "base_uri": "https://localhost:8080/"
        },
        "id": "n6vyRlH5yBd3",
        "outputId": "4a9f1ac5-10e7-427d-e0f3-e3319d3af643"
      },
      "outputs": [
        {
          "name": "stdout",
          "output_type": "stream",
          "text": [
            "Private key: cPt9QpLmQ3f3iUXFH1ozrcCWnmJ9g1jmFs1ehf6rbvi513m4Ss4Z\n",
            "Address: mheAPH8vaH6PaeNiiKSFxKDTTr91Si3nkV\n"
          ]
        }
      ],
      "source": [
        "from bitcoin import SelectParams\n",
        "from bitcoin.base58 import decode\n",
        "from bitcoin.wallet import CBitcoinAddress, CBitcoinSecret, P2PKHBitcoinAddress\n",
        "\n",
        "#This says that we will connect to testnet, not the actual Bitcoin network\n",
        "SelectParams('testnet')\n",
        "\n",
        "#This is my private key. You need to add yours here\n",
        "my_private_key = CBitcoinSecret('cPt9QpLmQ3f3iUXFH1ozrcCWnmJ9g1jmFs1ehf6rbvi513m4Ss4Z')\n",
        "\n",
        "#As you see, we do not explicitly see the public key  anywhere. We do not need to see it.\n",
        "#The elliptic curve operations are handled in the background. Your private key\n",
        "#is in fact a scalar which will be multiplied with a point on the curve to obtain\n",
        "#the public key (note: elliptic curve discrete logarithm problem).\n",
        "my_public_key = my_private_key.pub\n",
        "\n",
        "#With P2PKHBitcoinAddress's from_pubkey function, we can obtain our address.\n",
        "my_address = P2PKHBitcoinAddress.from_pubkey(my_public_key)\n",
        "\n",
        "#This is the address of the faucet (a Bitcoin Test account) which we will\n",
        "#send our money back during/after the exercises.\n",
        "faucet_address = CBitcoinAddress('tb1qerzrlxcfu24davlur5sqmgzzgsal6wusda40er')\n",
        "\n",
        "print(\"Private key: %s\" % my_private_key)\n",
        "print(\"Address: %s\" %P2PKHBitcoinAddress.from_pubkey(my_private_key.pub))"
      ]
    },
    {
      "cell_type": "code",
      "execution_count": 4,
      "metadata": {
        "colab": {
          "base_uri": "https://localhost:8080/"
        },
        "id": "VcG_c7IMHflU",
        "outputId": "ede97acc-059f-4347-b3a8-c4738290097c"
      },
      "outputs": [
        {
          "data": {
            "text/plain": [
              "CScript([OP_DUP, OP_HASH160, x('174d416ebd231d5331a1cda60a694eb808f8720a'), OP_EQUALVERIFY, OP_CHECKSIG])"
            ]
          },
          "execution_count": 4,
          "metadata": {},
          "output_type": "execute_result"
        }
      ],
      "source": [
        "my_address.to_scriptPubKey()"
      ]
    },
    {
      "cell_type": "markdown",
      "metadata": {
        "id": "0aZ7ykGF1P3O"
      },
      "source": [
        "The first thing we will do will be splitting the UTXO obtained from the faucet into multiple UTXOs. There are  multiple exercises in this notebook, hence we need more than one UTXO to spend. Besides, we may do mistakes, spend an UTXO in an unlockable manner and lose some of our test coins. So it is a good exercise to split the only UTXO we have.  "
      ]
    },
    {
      "cell_type": "markdown",
      "metadata": {
        "id": "m3F-gS6HXKFy"
      },
      "source": [
        "Lets run the **split_coins** function below with the transaction we obtained from the faucet.  The code is given below: You do not need to change the **split_coins** function. However, you need to add the UTXO information we obtained from the faucet at the end.\n",
        "\n",
        "You can check the status of the outputs in the original faucet transaction from BlockCypher (as I do it [here](https://live.blockcypher.com/btc-testnet/tx/1adee36659bc7268d33b3d90ebc7c7cf807f363f11a572076b3a3aa9845342d1/)). Before running the code below it must be *unspent*. Read the code and try to understand what it does by matching what we have learned in the class with the statements below.\n",
        "\n",
        "If you do everything correctly, at the end, you need to get a response with code 201. That is, you will see something like\n",
        "```\n",
        "201 Created\n",
        "{\n",
        "  \"tx\": {\n",
        "        ....\n",
        "  }\n",
        "}\n",
        " ```\n",
        "at the beginning of the output. And after some time, depending on the fee you give to the miners, the UTXO you used will appear as spent. Fortunately,  you have many more now to be used in the exercises."
      ]
    },
    {
      "cell_type": "code",
      "execution_count": 14,
      "metadata": {
        "colab": {
          "base_uri": "https://localhost:8080/"
        },
        "id": "mXD87qc2yJOm",
        "outputId": "121e20e5-8c06-4bab-a59b-323846bf7119"
      },
      "outputs": [
        {
          "name": "stdout",
          "output_type": "stream",
          "text": [
            "201 Created\n",
            "{\n",
            "  \"tx\": {\n",
            "    \"block_height\": -1,\n",
            "    \"block_index\": -1,\n",
            "    \"hash\": \"8f54e3fcce8d7621e1b3c62532b05dbeb7a587d7352aaaf45f6d64fc12d15821\",\n",
            "    \"addresses\": [\n",
            "      \"mheAPH8vaH6PaeNiiKSFxKDTTr91Si3nkV\"\n",
            "    ],\n",
            "    \"total\": 39000,\n",
            "    \"fees\": 388,\n",
            "    \"size\": 327,\n",
            "    \"vsize\": 327,\n",
            "    \"preference\": \"low\",\n",
            "    \"relayed_by\": \"34.86.73.98\",\n",
            "    \"received\": \"2024-04-04T10:55:27.809542574Z\",\n",
            "    \"ver\": 1,\n",
            "    \"double_spend\": false,\n",
            "    \"vin_sz\": 1,\n",
            "    \"vout_sz\": 5,\n",
            "    \"confirmations\": 0,\n",
            "    \"inputs\": [\n",
            "      {\n",
            "        \"prev_hash\": \"5de7ad9ca7f3b44b8fe7256e4f398b111ea8f1c03fbb0e56971793eb91afb4a4\",\n",
            "        \"output_index\": 1,\n",
            "        \"script\": \"47304402206e41baa0718759f1d4b0fe3685a9c52d50f848de5d1064713de02e45eb1a72e7022042c1ccfa1de3311b7a1b1b940751fd01995f627e77e04058864b05451e0024ea0121026e9bbeb0df9890b1e6d060412d5455ea1a1e31a2cf0b937a1691da849135511c\",\n",
            "        \"output_value\": 39388,\n",
            "        \"sequence\": 4294967295,\n",
            "        \"addresses\": [\n",
            "          \"mheAPH8vaH6PaeNiiKSFxKDTTr91Si3nkV\"\n",
            "        ],\n",
            "        \"script_type\": \"pay-to-pubkey-hash\",\n",
            "        \"age\": 2585175\n",
            "      }\n",
            "    ],\n",
            "    \"outputs\": [\n",
            "      {\n",
            "        \"value\": 7800,\n",
            "        \"script\": \"76a914174d416ebd231d5331a1cda60a694eb808f8720a88ac\",\n",
            "        \"addresses\": [\n",
            "          \"mheAPH8vaH6PaeNiiKSFxKDTTr91Si3nkV\"\n",
            "        ],\n",
            "        \"script_type\": \"pay-to-pubkey-hash\"\n",
            "      },\n",
            "      {\n",
            "        \"value\": 7800,\n",
            "        \"script\": \"76a914174d416ebd231d5331a1cda60a694eb808f8720a88ac\",\n",
            "        \"addresses\": [\n",
            "          \"mheAPH8vaH6PaeNiiKSFxKDTTr91Si3nkV\"\n",
            "        ],\n",
            "        \"script_type\": \"pay-to-pubkey-hash\"\n",
            "      },\n",
            "      {\n",
            "        \"value\": 7800,\n",
            "        \"script\": \"76a914174d416ebd231d5331a1cda60a694eb808f8720a88ac\",\n",
            "        \"addresses\": [\n",
            "          \"mheAPH8vaH6PaeNiiKSFxKDTTr91Si3nkV\"\n",
            "        ],\n",
            "        \"script_type\": \"pay-to-pubkey-hash\"\n",
            "      },\n",
            "      {\n",
            "        \"value\": 7800,\n",
            "        \"script\": \"76a914174d416ebd231d5331a1cda60a694eb808f8720a88ac\",\n",
            "        \"addresses\": [\n",
            "          \"mheAPH8vaH6PaeNiiKSFxKDTTr91Si3nkV\"\n",
            "        ],\n",
            "        \"script_type\": \"pay-to-pubkey-hash\"\n",
            "      },\n",
            "      {\n",
            "        \"value\": 7800,\n",
            "        \"script\": \"76a914174d416ebd231d5331a1cda60a694eb808f8720a88ac\",\n",
            "        \"addresses\": [\n",
            "          \"mheAPH8vaH6PaeNiiKSFxKDTTr91Si3nkV\"\n",
            "        ],\n",
            "        \"script_type\": \"pay-to-pubkey-hash\"\n",
            "      }\n",
            "    ]\n",
            "  }\n",
            "}\n"
          ]
        }
      ],
      "source": [
        "import requests\n",
        "\n",
        "from bitcoin.core import b2x, lx, COIN, COutPoint, CMutableTxOut, CMutableTxIn, CMutableTransaction, Hash160\n",
        "from bitcoin.core.script import *\n",
        "from bitcoin.core.scripteval import VerifyScript, SCRIPT_VERIFY_P2SH\n",
        "\n",
        "def create_OP_CHECKSIG_signature(tx, txin_scriptPubKey, seckey):\n",
        "    #We want no parts of the transaction to be changed.\n",
        "    #Hence, we hash all the transaction before signing it (i.e.: SIGHASH_ALL).\n",
        "    sighash = SignatureHash(txin_scriptPubKey, tx, 0, SIGHASH_ALL)\n",
        "    signature = seckey.sign(sighash) + bytes([SIGHASH_ALL])\n",
        "    return signature\n",
        "\n",
        "def broadcast_transaction(tx):\n",
        "    raw_transaction = b2x(tx.serialize())\n",
        "    headers = {'content-type': 'application/x-www-form-urlencoded'}\n",
        "    return requests.post(\n",
        "        'https://api.blockcypher.com/v1/btc/test3/txs/push',\n",
        "        headers=headers,\n",
        "        data='{\"tx\": \"%s\"}' % raw_transaction)\n",
        "\n",
        "#What we simply do in this transaction is splitting. We spent the faucet output and\n",
        "#split the amount into n pieces each is again to our addresses in a P2PKH structure.\n",
        "def split_coins(amount_to_send, txid_to_spend, utxo_index, n):\n",
        "    #We are creating a transaction with a single input and n outputs.\n",
        "\n",
        "    #txin is the input part of the transaction\n",
        "    txin_scriptPubKey = my_address.to_scriptPubKey() #initial UTXO was for my address so we need to use it as scriptPubKey\n",
        "    txin = CMutableTxIn(COutPoint(lx(txid_to_spend), utxo_index)) #now we have txin\n",
        "    #The function lx() onverts a little-endian hex string to bytes\n",
        "    #The COutPoint is the combination of a transaction hash and an index n into its vout as we have discussed in the lecture\n",
        "\n",
        "    #This transaction's outputs are all for myself - so the default P2PKH script\n",
        "    #[OP_DUP OP_HASH160 <pubKeyHash> OP_EQUALVERIFY OP_CHECKSIG] must be the scriptPubKey\n",
        "    #The function to_scriptPubKey automatically generates this script from a P2PKHBitcoinAddress\n",
        "    #Note that the script contains a base16 encoded version of checksummed/modified byte58 encoded address (This operation is reversible!).\n",
        "    txout_scriptPubKey = my_address.to_scriptPubKey()\n",
        "\n",
        "    #txout is a single output. (IMP: the function CScript which you use for the first time serializes the script created above)\n",
        "    txout = CMutableTxOut((amount_to_send / n) * COIN, CScript(txout_scriptPubKey)) #amount and address are given here\n",
        "\n",
        "    #This is the whole transaction we will broadcast\n",
        "    #Note the [txout]*n in the parameters of CMutableTransaction function\n",
        "    tx = CMutableTransaction([txin], [txout] * n)\n",
        "\n",
        "    #Now lets sign the transaction to keep its integrity\n",
        "    sig = create_OP_CHECKSIG_signature(tx, txin_scriptPubKey, my_private_key)\n",
        "    #We need to create the unlocking script which is [signature, encoded SIGHASH_ALL] + PublicKey\n",
        "    txin.scriptSig = CScript([sig, my_public_key])\n",
        "\n",
        "    #Lets validate if the script is correctly generated...\n",
        "    #This function raises a ValidationError subclass if the validation fails\n",
        "    VerifyScript(txin.scriptSig, txin_scriptPubKey, tx, 0, (SCRIPT_VERIFY_P2SH,))\n",
        "\n",
        "    #Broadcast the transaction\n",
        "    response = broadcast_transaction(tx)\n",
        "    print(response.status_code, response.reason)\n",
        "    print(response.text)\n",
        "\n",
        "#The mount of BTC in the output you're splitting minus fee.\n",
        "#Warning: In the test network, fees are required. They can be small but since this\n",
        "#is an exercise, you can be generous\n",
        "# 26.32850582 BTC\n",
        "# FEES 0.00000147 BTC\n",
        "# 0.00039388 BTC in address\n",
        "amount_to_send = 0.00039;\n",
        "\n",
        "#This must be the transaction id you have from the faucet's transaction\n",
        "txid_to_spend = ('5de7ad9ca7f3b44b8fe7256e4f398b111ea8f1c03fbb0e56971793eb91afb4a4')\n",
        "\n",
        "#the output UTXO location in the transaction from faucet (mine is 1, but maybe yours is 0)\n",
        "utxo_index = 1;\n",
        "\n",
        "#number of transactions to be splitted\n",
        "n = 5;\n",
        "######################################################################\n",
        "\n",
        "split_coins(amount_to_send, txid_to_spend, utxo_index, n)"
      ]
    },
    {
      "cell_type": "markdown",
      "metadata": {
        "id": "KSBMpekZat9M"
      },
      "source": [
        "##Part 1 - Exactly same with the given practice exercise\n",
        "\n",
        "Here is the first part: it is about spending one of the smaller transactions and send it back to the **faucet**. Make it complete, run, and be sure that you have the correct output with code *201 Created*.\n",
        "\n",
        "**Hint**:  Almost all the information you need, the codes, functions to be used etc. can be read and copied from the **split_coins** example above. Before, we created a transaction to split the original UTXO obtained from the faucet. You will do the same here but this time you will not direct the output to yourself. The money needs to go back to the faucet."
      ]
    },
    {
      "cell_type": "code",
      "execution_count": 21,
      "metadata": {
        "colab": {
          "base_uri": "https://localhost:8080/"
        },
        "id": "n_bjZd63YLFh",
        "outputId": "816ef830-3e4f-470d-93a2-85ef9dd3ec27"
      },
      "outputs": [
        {
          "name": "stdout",
          "output_type": "stream",
          "text": [
            "201 Created\n",
            "{\n",
            "  \"tx\": {\n",
            "    \"block_height\": -1,\n",
            "    \"block_index\": -1,\n",
            "    \"hash\": \"764b554df8418619ec0635b11d49b38f5889fc7cdc7d5312f53fb185b2335dd2\",\n",
            "    \"addresses\": [\n",
            "      \"mheAPH8vaH6PaeNiiKSFxKDTTr91Si3nkV\",\n",
            "      \"tb1qerzrlxcfu24davlur5sqmgzzgsal6wusda40er\"\n",
            "    ],\n",
            "    \"total\": 0,\n",
            "    \"fees\": 15,\n",
            "    \"size\": 312,\n",
            "    \"vsize\": 312,\n",
            "    \"preference\": \"low\",\n",
            "    \"relayed_by\": \"34.86.73.98\",\n",
            "    \"received\": \"2024-04-04T12:11:44.789020774Z\",\n",
            "    \"ver\": 1,\n",
            "    \"double_spend\": false,\n",
            "    \"vin_sz\": 1,\n",
            "    \"vout_sz\": 5,\n",
            "    \"confirmations\": 0,\n",
            "    \"inputs\": [\n",
            "      {\n",
            "        \"prev_hash\": \"9fc024992a9dbabd35364184bb706e3953419727c03d389d202fc5f7e01d0b4b\",\n",
            "        \"output_index\": 1,\n",
            "        \"script\": \"473044022073e73a574c99385c79070566cf991cb1b23c9c0fa97c47817cba4ea5fd6a9ecf022036264647a8663177f4235a956c4412ae21390c1011e916cda8ac0bbdaaf551c70121026e9bbeb0df9890b1e6d060412d5455ea1a1e31a2cf0b937a1691da849135511c\",\n",
            "        \"output_value\": 15,\n",
            "        \"sequence\": 4294967295,\n",
            "        \"addresses\": [\n",
            "          \"mheAPH8vaH6PaeNiiKSFxKDTTr91Si3nkV\"\n",
            "        ],\n",
            "        \"script_type\": \"pay-to-pubkey-hash\",\n",
            "        \"age\": 0\n",
            "      }\n",
            "    ],\n",
            "    \"outputs\": [\n",
            "      {\n",
            "        \"value\": 0,\n",
            "        \"script\": \"0014c8c43f9b09e2aadeb3fc1d200da042443bfd3b90\",\n",
            "        \"addresses\": [\n",
            "          \"tb1qerzrlxcfu24davlur5sqmgzzgsal6wusda40er\"\n",
            "        ],\n",
            "        \"script_type\": \"pay-to-witness-pubkey-hash\"\n",
            "      },\n",
            "      {\n",
            "        \"value\": 0,\n",
            "        \"script\": \"0014c8c43f9b09e2aadeb3fc1d200da042443bfd3b90\",\n",
            "        \"addresses\": [\n",
            "          \"tb1qerzrlxcfu24davlur5sqmgzzgsal6wusda40er\"\n",
            "        ],\n",
            "        \"script_type\": \"pay-to-witness-pubkey-hash\"\n",
            "      },\n",
            "      {\n",
            "        \"value\": 0,\n",
            "        \"script\": \"0014c8c43f9b09e2aadeb3fc1d200da042443bfd3b90\",\n",
            "        \"addresses\": [\n",
            "          \"tb1qerzrlxcfu24davlur5sqmgzzgsal6wusda40er\"\n",
            "        ],\n",
            "        \"script_type\": \"pay-to-witness-pubkey-hash\"\n",
            "      },\n",
            "      {\n",
            "        \"value\": 0,\n",
            "        \"script\": \"0014c8c43f9b09e2aadeb3fc1d200da042443bfd3b90\",\n",
            "        \"addresses\": [\n",
            "          \"tb1qerzrlxcfu24davlur5sqmgzzgsal6wusda40er\"\n",
            "        ],\n",
            "        \"script_type\": \"pay-to-witness-pubkey-hash\"\n",
            "      },\n",
            "      {\n",
            "        \"value\": 0,\n",
            "        \"script\": \"0014c8c43f9b09e2aadeb3fc1d200da042443bfd3b90\",\n",
            "        \"addresses\": [\n",
            "          \"tb1qerzrlxcfu24davlur5sqmgzzgsal6wusda40er\"\n",
            "        ],\n",
            "        \"script_type\": \"pay-to-witness-pubkey-hash\"\n",
            "      }\n",
            "    ]\n",
            "  }\n",
            "}\n"
          ]
        }
      ],
      "source": [
        "from bitcoin.core.script import *\n",
        "\n",
        "# send back to: tb1qerzrlxcfu24davlur5sqmgzzgsal6wusda40er faucet\n",
        "# TODO: Complete this script to unlock the BTC that was sent to you\n",
        "# in the PayToPublicKeyHash transaction. You may need to use variables\n",
        "# that are globally defined.\n",
        "def send_from_P2PKH_transaction(amount_to_send, txid_to_spend, utxo_index, txout_scriptPubKey):\n",
        "    #line 1: create the txin below\n",
        "    txin = CMutableTxIn(COutPoint(lx(txid_to_spend), utxo_index))\n",
        "\n",
        "    #line 2: create the txout below\n",
        "    txout = CMutableTxOut((amount_to_send / n) * COIN, CScript(txout_scriptPubKey))\n",
        "\n",
        "    #line 3: create the tx below\n",
        "    tx = CMutableTransaction([txin], [txout] * n)\n",
        "\n",
        "    #line 4: create the txin_scriptPubKey\n",
        "    txin_scriptPubKey = my_address.to_scriptPubKey()\n",
        "\n",
        "    #line 5: create the signature by using the appropriate function above\n",
        "    sig = create_OP_CHECKSIG_signature(tx, txin_scriptPubKey, my_private_key)\n",
        "\n",
        "    #line 6: set the txin's scriptSig value (signature + public_key)\n",
        "\n",
        "    txin.scriptSig = CScript([sig, my_public_key])\n",
        "\n",
        "    #verifying the transaction (this should pass)\n",
        "    VerifyScript(txin.scriptSig, txin_scriptPubKey, tx, 0, (SCRIPT_VERIFY_P2SH,))\n",
        "\n",
        "    return broadcast_transaction(tx)\n",
        "\n",
        "######################################################################\n",
        "# TODO: set all these parameters correctly\n",
        "amount_to_send = 0.0000000078 #Do not forget the fee\n",
        "txid_to_spend = ('9fc024992a9dbabd35364184bb706e3953419727c03d389d202fc5f7e01d0b4b')\n",
        "utxo_index = 1\n",
        "txout_scriptPubKey = faucet_address.to_scriptPubKey() #[OP_DUP ....]\n",
        "######################################################################\n",
        "\n",
        "response = send_from_P2PKH_transaction(amount_to_send, txid_to_spend, utxo_index, txout_scriptPubKey)\n",
        "print(response.status_code, response.reason)\n",
        "print(response.text)"
      ]
    },
    {
      "cell_type": "markdown",
      "metadata": {
        "id": "ZusrXlg_GqNg"
      },
      "source": [
        "#Part 2 - The puzzle is different than the one in the exercise\n",
        "\n",
        "In this part, you will create a UTXO and later redeem it by using P2SH approach. The locking script will contain the hash of a puzzle whose solution will be given in the redeem script.\n",
        "\n",
        "To unlock, the locking script will require three numbers whose sum is 15 and maximum is smaller than 8. Your script must check these equalities programatically.\n",
        "\n",
        "For the opcodes you may need to use please check this [webpage](https://en.bitcoin.it/wiki/Script). Again if you are successful, you will get the return code **201** after the transaction broadcast.\n",
        "\n",
        "You will complete this exercise in two parts. First a transaction will be created with a single output. Then it will be redeemed (by youself, to be sent to the faucet). The starting code for the first part is given below:\n",
        "\n"
      ]
    },
    {
      "cell_type": "code",
      "execution_count": 101,
      "metadata": {
        "colab": {
          "base_uri": "https://localhost:8080/"
        },
        "id": "gOKNN33uMQPA",
        "outputId": "63381749-bdab-46fc-8501-aec196044d08"
      },
      "outputs": [
        {
          "name": "stdout",
          "output_type": "stream",
          "text": [
            "409 Conflict\n",
            "{}\n"
          ]
        }
      ],
      "source": [
        "from sys import exit\n",
        "from bitcoin.core.script import *\n",
        "from bitcoin.core.script import CScript\n",
        "from bitcoin.wallet import CBitcoinAddress, P2SHBitcoinAddress\n",
        "from bitcoin.core import x, b2lx, lx, Hash160\n",
        "\n",
        "######################################################################\n",
        "# TODO: Complete the scriptPubKey implementation with operations\n",
        "\n",
        "\n",
        "# To unlock, the locking script will require three numbers whose sum is 15 and maximum is smaller than 8. Your script must check these equalities programatically.\n",
        "locking_script = [\n",
        "     # placeholders\n",
        "    OP_1, OP_2, OP_3,\n",
        "    OP_DUP, OP_DUP,  # duplicate first two numbers on top of stack to check\n",
        "    OP_8, OP_LESSTHAN,  # check no 1 <8\n",
        "    OP_DUP, OP_DUP,    # no 2 < 8\n",
        "    OP_8, OP_LESSTHAN,\n",
        "    OP_ROT,\n",
        "    OP_8, OP_LESSTHAN,  # no 3 < 8\n",
        "\n",
        "    OP_BOOLAND,\n",
        "    OP_BOOLAND,\n",
        "\n",
        "    # sum of the three numbers\n",
        "    OP_ROT, OP_ADD,  # add  two numbers\n",
        "    OP_ROT, OP_ADD,  # add the result to the third number\n",
        "    OP_15, OP_EQUALVERIFY, # Check if the sum equals 15\n",
        "    OP_1\n",
        "]\n",
        "\n",
        "#create lock script hash to script out P2SH\n",
        "locking_script = CScript(locking_script)\n",
        "locking_script_hash = Hash160(locking_script)\n",
        "\n",
        "# Be careful while using OP_EQUAL and OP_VERIFY - read them from https://en.bitcoin.it/wiki/Script\n",
        "ex2a_txout_scriptPubKey = [ OP_HASH160,b'locking_script_hash', OP_EQUAL]\n",
        "######################################################################\n",
        "\n",
        "######################################################################\n",
        "# TODO: set these parameters correctly\n",
        "amount_to_send = 0.000000015\n",
        "txid_to_spend = (\"8f54e3fcce8d7621e1b3c62532b05dbeb7a587d7352aaaf45f6d64fc12d15821\")\n",
        "utxo_index = 3\n",
        "######################################################################\n",
        "\n",
        "#This function is from the first exercise\n",
        "response = send_from_P2PKH_transaction(amount_to_send, txid_to_spend, utxo_index, ex2a_txout_scriptPubKey)\n",
        "print(response.status_code, response.reason)\n",
        "print(response.text)"
      ]
    },
    {
      "cell_type": "markdown",
      "metadata": {
        "id": "mQ_AbLvDTUdJ"
      },
      "source": [
        "In the second part, we will redeem by only providing the solution of the locking script. Note that anyone can do this. Since the lock script does not contain any signature, address etc. check, one only need to provide **a**, **b** and **c**. You can follow the results, e.g., confirmations, from BlockCypher test network explorer by using the transaction hash you obtained after succesfully completing this part."
      ]
    },
    {
      "cell_type": "code",
      "execution_count": 103,
      "metadata": {
        "colab": {
          "base_uri": "https://localhost:8080/",
          "height": 356
        },
        "id": "amqZXyiGUSWi",
        "outputId": "2d3fc524-7918-47e0-a076-2517e69e5a92"
      },
      "outputs": [
        {
          "ename": "VerifyScriptError",
          "evalue": "scriptPubKey returned false",
          "output_type": "error",
          "traceback": [
            "\u001b[0;31m---------------------------------------------------------------------------\u001b[0m",
            "\u001b[0;31mVerifyScriptError\u001b[0m                         Traceback (most recent call last)",
            "\u001b[0;32m<ipython-input-103-36355e92e9ac>\u001b[0m in \u001b[0;36m<cell line: 37>\u001b[0;34m()\u001b[0m\n\u001b[1;32m     35\u001b[0m \u001b[0mtxout_scriptPubKey\u001b[0m \u001b[0;34m=\u001b[0m \u001b[0mfaucet_address\u001b[0m\u001b[0;34m.\u001b[0m\u001b[0mto_scriptPubKey\u001b[0m\u001b[0;34m(\u001b[0m\u001b[0;34m)\u001b[0m \u001b[0;31m#sending money to faucet after solving the puzzle\u001b[0m\u001b[0;34m\u001b[0m\u001b[0;34m\u001b[0m\u001b[0m\n\u001b[1;32m     36\u001b[0m \u001b[0;34m\u001b[0m\u001b[0m\n\u001b[0;32m---> 37\u001b[0;31m \u001b[0mresponse\u001b[0m \u001b[0;34m=\u001b[0m \u001b[0msend_from_custom_transaction\u001b[0m\u001b[0;34m(\u001b[0m\u001b[0mamount_to_send\u001b[0m\u001b[0;34m,\u001b[0m \u001b[0mtxid_to_spend\u001b[0m\u001b[0;34m,\u001b[0m \u001b[0mutxo_index\u001b[0m\u001b[0;34m,\u001b[0m \u001b[0mtxin_scriptPubKey\u001b[0m\u001b[0;34m,\u001b[0m \u001b[0mtxin_scriptSig\u001b[0m\u001b[0;34m,\u001b[0m \u001b[0mtxout_scriptPubKey\u001b[0m\u001b[0;34m)\u001b[0m\u001b[0;34m\u001b[0m\u001b[0;34m\u001b[0m\u001b[0m\n\u001b[0m\u001b[1;32m     38\u001b[0m \u001b[0mprint\u001b[0m\u001b[0;34m(\u001b[0m\u001b[0mresponse\u001b[0m\u001b[0;34m.\u001b[0m\u001b[0mstatus_code\u001b[0m\u001b[0;34m,\u001b[0m \u001b[0mresponse\u001b[0m\u001b[0;34m.\u001b[0m\u001b[0mreason\u001b[0m\u001b[0;34m)\u001b[0m\u001b[0;34m\u001b[0m\u001b[0;34m\u001b[0m\u001b[0m\n\u001b[1;32m     39\u001b[0m \u001b[0mprint\u001b[0m\u001b[0;34m(\u001b[0m\u001b[0mresponse\u001b[0m\u001b[0;34m.\u001b[0m\u001b[0mtext\u001b[0m\u001b[0;34m)\u001b[0m\u001b[0;34m\u001b[0m\u001b[0;34m\u001b[0m\u001b[0m\n",
            "\u001b[0;32m<ipython-input-103-36355e92e9ac>\u001b[0m in \u001b[0;36msend_from_custom_transaction\u001b[0;34m(amount_to_send, txid_to_spend, utxo_index, txin_scriptPubKey, txin_scriptSig, txout_scriptPubKey)\u001b[0m\n\u001b[1;32m      9\u001b[0m     \u001b[0;31m#the steps are the same. The main difference is the scripts are given as parameters\u001b[0m\u001b[0;34m\u001b[0m\u001b[0;34m\u001b[0m\u001b[0m\n\u001b[1;32m     10\u001b[0m     \u001b[0;31m#since you will define them below.\u001b[0m\u001b[0;34m\u001b[0m\u001b[0;34m\u001b[0m\u001b[0m\n\u001b[0;32m---> 11\u001b[0;31m   \u001b[0mVerifyScript\u001b[0m\u001b[0;34m(\u001b[0m\u001b[0mtxin\u001b[0m\u001b[0;34m.\u001b[0m\u001b[0mscriptSig\u001b[0m\u001b[0;34m,\u001b[0m \u001b[0mCScript\u001b[0m\u001b[0;34m(\u001b[0m\u001b[0mtxin_scriptPubKey\u001b[0m\u001b[0;34m)\u001b[0m\u001b[0;34m,\u001b[0m \u001b[0mtx\u001b[0m\u001b[0;34m,\u001b[0m \u001b[0;36m0\u001b[0m\u001b[0;34m,\u001b[0m \u001b[0;34m(\u001b[0m\u001b[0mSCRIPT_VERIFY_P2SH\u001b[0m\u001b[0;34m,\u001b[0m\u001b[0;34m)\u001b[0m\u001b[0;34m)\u001b[0m\u001b[0;34m\u001b[0m\u001b[0;34m\u001b[0m\u001b[0m\n\u001b[0m\u001b[1;32m     12\u001b[0m \u001b[0;34m\u001b[0m\u001b[0m\n\u001b[1;32m     13\u001b[0m   \u001b[0;32mreturn\u001b[0m \u001b[0mbroadcast_transaction\u001b[0m\u001b[0;34m(\u001b[0m\u001b[0mtx\u001b[0m\u001b[0;34m)\u001b[0m\u001b[0;34m\u001b[0m\u001b[0;34m\u001b[0m\u001b[0m\n",
            "\u001b[0;32m/usr/local/lib/python3.10/dist-packages/bitcoin/core/scripteval.py\u001b[0m in \u001b[0;36mVerifyScript\u001b[0;34m(scriptSig, scriptPubKey, txTo, inIdx, flags)\u001b[0m\n\u001b[1;32m    756\u001b[0m         \u001b[0;32mraise\u001b[0m \u001b[0mVerifyScriptError\u001b[0m\u001b[0;34m(\u001b[0m\u001b[0;34m\"scriptPubKey left an empty stack\"\u001b[0m\u001b[0;34m)\u001b[0m\u001b[0;34m\u001b[0m\u001b[0;34m\u001b[0m\u001b[0m\n\u001b[1;32m    757\u001b[0m     \u001b[0;32mif\u001b[0m \u001b[0;32mnot\u001b[0m \u001b[0m_CastToBool\u001b[0m\u001b[0;34m(\u001b[0m\u001b[0mstack\u001b[0m\u001b[0;34m[\u001b[0m\u001b[0;34m-\u001b[0m\u001b[0;36m1\u001b[0m\u001b[0;34m]\u001b[0m\u001b[0;34m)\u001b[0m\u001b[0;34m:\u001b[0m\u001b[0;34m\u001b[0m\u001b[0;34m\u001b[0m\u001b[0m\n\u001b[0;32m--> 758\u001b[0;31m         \u001b[0;32mraise\u001b[0m \u001b[0mVerifyScriptError\u001b[0m\u001b[0;34m(\u001b[0m\u001b[0;34m\"scriptPubKey returned false\"\u001b[0m\u001b[0;34m)\u001b[0m\u001b[0;34m\u001b[0m\u001b[0;34m\u001b[0m\u001b[0m\n\u001b[0m\u001b[1;32m    759\u001b[0m \u001b[0;34m\u001b[0m\u001b[0m\n\u001b[1;32m    760\u001b[0m     \u001b[0;31m# Additional validation for spend-to-script-hash transactions\u001b[0m\u001b[0;34m\u001b[0m\u001b[0;34m\u001b[0m\u001b[0m\n",
            "\u001b[0;31mVerifyScriptError\u001b[0m: scriptPubKey returned false"
          ]
        }
      ],
      "source": [
        "def send_from_custom_transaction(amount_to_send, txid_to_spend, utxo_index, txin_scriptPubKey, txin_scriptSig, txout_scriptPubKey):\n",
        "  txout = CMutableTxOut((amount_to_send / n) * COIN, CScript(txout_scriptPubKey))\n",
        "  txin = CMutableTxIn(COutPoint(lx(txid_to_spend), utxo_index))\n",
        "  tx = CMutableTransaction([txin], [txout] * n)\n",
        "  txin.scriptSig = CScript(txin_scriptSig)\n",
        "\n",
        "\n",
        "    #Complete this function, if you have implemented send_from_P2PKH_transaction\n",
        "    #the steps are the same. The main difference is the scripts are given as parameters\n",
        "    #since you will define them below.\n",
        "  VerifyScript(txin.scriptSig, CScript(txin_scriptPubKey), tx, 0, (SCRIPT_VERIFY_P2SH,))\n",
        "\n",
        "  return broadcast_transaction(tx)\n",
        "\n",
        "######################################################################\n",
        "# TODO: set these parameters correctly\n",
        "amount_to_send = 0.000000078\n",
        "txid_to_spend = '8f54e3fcce8d7621e1b3c62532b05dbeb7a587d7352aaaf45f6d64fc12d15821'\n",
        "utxo_index = 3\n",
        "n = 5\n",
        "######################################################################\n",
        "\"\"\"\n",
        "<arg1> <arg2>... <serializedScript>\n",
        "OP_HASH160 <scriptHash> OP_EQUAL\n",
        "\"\"\"\n",
        "\n",
        "\n",
        "txin_scriptPubKey = ex2a_txout_scriptPubKey\n",
        "######################################################################\n",
        "# TODO: implement the scriptSig for redeeming the transaction created in  Exercise 2a.\n",
        "# This must be a very chort scriptSig. No signature, address check etc. script that fulfills the locking conditions!!\n",
        "# Anyone who can submit the solution of the problem (a and b in correct form) can spend the transaction\n",
        "faucet_address = CBitcoinAddress('tb1qerzrlxcfu24davlur5sqmgzzgsal6wusda40er')\n",
        "######################################################################\n",
        "txout_scriptPubKey = faucet_address.to_scriptPubKey() #sending money to faucet after solving the puzzle\n",
        "\n",
        "response = send_from_custom_transaction(amount_to_send, txid_to_spend, utxo_index, txin_scriptPubKey, txin_scriptSig, txout_scriptPubKey)\n",
        "print(response.status_code, response.reason)\n",
        "print(response.text)"
      ]
    },
    {
      "cell_type": "markdown",
      "metadata": {
        "id": "Uw1O4ac2OliB"
      },
      "source": [
        "##Part 3: Slightly different than the practice\n",
        "\n",
        "In the first part of the third exercise, you will create and broadcast a MULTISIG transaction to the test network. The second part will be about providing an unlock script for this transaction. You will definitely want to read how OP_CHECKMULTISIG works from [here](https://en.bitcoin.it/wiki/Script).\n",
        "\n",
        "The scenario is as follows: in a company, there is a manager and three employees. The multisig signature\n",
        "you will create (in the first part) can be redeemed by the manager combined with one of the employees. However, only the manager, or only the employees with enough number of signatures will not be able to redeem the transaction. **Unlike the HW, the order of the signatures should not matter**.\n",
        "\n",
        "You may assume the role of the manager for this exercise so that the manager’s private key is your private key and the manager’s public key is your public key.\n",
        "\n",
        "For the employee private keys and addresses, you can use the key generation code at the beginning of this notebook. That is generate 3 random Bitcoin secret keys to be used in this exercise with the code below.\n"
      ]
    },
    {
      "cell_type": "code",
      "execution_count": 36,
      "metadata": {
        "colab": {
          "base_uri": "https://localhost:8080/"
        },
        "id": "XYbG5amaUFzH",
        "outputId": "3db941b0-ce0c-4fb6-c55f-ea8785c7c708"
      },
      "outputs": [
        {
          "name": "stdout",
          "output_type": "stream",
          "text": [
            "Private key: cRgEMFSVY2B1P9faPHcULeJdHjLP2z5F7mXhDtwrePf81bzLRat4\n",
            "Address: mgyPEYd2AL4DHiS4774T5fh6MQ7YGonMCU\n"
          ]
        }
      ],
      "source": [
        "from os import urandom\n",
        "from bitcoin import SelectParams\n",
        "from bitcoin.wallet import CBitcoinSecret, P2PKHBitcoinAddress\n",
        "\n",
        "SelectParams('testnet')\n",
        "\n",
        "seckey = CBitcoinSecret.from_secret_bytes(urandom(32))\n",
        "\"\"\"\n",
        "employee 1\n",
        "Private key: cTPArq2qqkPQpsYBnrJ3c1GUCqgRVnXd9ghi2tz71wamGNdUARyZ\n",
        "Address: mmJVhJLsGjR1UsoaSqhCRbhM161Ju2o26Y\n",
        "employee 2\n",
        "Private key: cPtDFPWefDDx516zSsSccEopSrV1rs3sY3K4QL7uMMFHi6ENZGMD\n",
        "Address: n1AxyA8XdAG19AzEgmQmAnJnSexFQkWoqY\n",
        "employee 3\n",
        "Private key: cRgEMFSVY2B1P9faPHcULeJdHjLP2z5F7mXhDtwrePf81bzLRat4\n",
        "Address: mgyPEYd2AL4DHiS4774T5fh6MQ7YGonMCU\n",
        "\"\"\"\n",
        "print(\"Private key: %s\" % seckey)\n",
        "print(\"Address: %s\" %P2PKHBitcoinAddress.from_pubkey(seckey.pub))"
      ]
    },
    {
      "cell_type": "markdown",
      "metadata": {
        "id": "OzDvMMOoUUTX"
      },
      "source": [
        "After filling the spaces ---xxx-- in the first part below, we can create the transaction locked as described above."
      ]
    },
    {
      "cell_type": "code",
      "execution_count": 78,
      "metadata": {
        "colab": {
          "base_uri": "https://localhost:8080/"
        },
        "id": "WORrCClURFoZ",
        "outputId": "e6175d67-c9f0-42a5-d6cc-db17316f6cd5"
      },
      "outputs": [
        {
          "name": "stdout",
          "output_type": "stream",
          "text": [
            "201 Created\n",
            "{\n",
            "  \"tx\": {\n",
            "    \"block_height\": -1,\n",
            "    \"block_index\": -1,\n",
            "    \"hash\": \"eb84beb9959a577267bfb88062f5172f3a5941d917187820ce6bba2fda8fe653\",\n",
            "    \"addresses\": [\n",
            "      \"mheAPH8vaH6PaeNiiKSFxKDTTr91Si3nkV\"\n",
            "    ],\n",
            "    \"total\": 0,\n",
            "    \"fees\": 15,\n",
            "    \"size\": 893,\n",
            "    \"vsize\": 893,\n",
            "    \"preference\": \"low\",\n",
            "    \"relayed_by\": \"34.86.73.98\",\n",
            "    \"received\": \"2024-04-04T18:23:12.609798321Z\",\n",
            "    \"ver\": 1,\n",
            "    \"double_spend\": false,\n",
            "    \"vin_sz\": 1,\n",
            "    \"vout_sz\": 5,\n",
            "    \"confirmations\": 0,\n",
            "    \"inputs\": [\n",
            "      {\n",
            "        \"prev_hash\": \"9fc024992a9dbabd35364184bb706e3953419727c03d389d202fc5f7e01d0b4b\",\n",
            "        \"output_index\": 4,\n",
            "        \"script\": \"483045022100d91cfac1a0bb8f7479335698ee34d01dde91684ebc8a1176e36dadd81cb6244b022072978c9bf4c20f92e99b53018e6f1a08d7264df37935aba7e8afe76ef46cfcd80121026e9bbeb0df9890b1e6d060412d5455ea1a1e31a2cf0b937a1691da849135511c\",\n",
            "        \"output_value\": 15,\n",
            "        \"sequence\": 4294967295,\n",
            "        \"addresses\": [\n",
            "          \"mheAPH8vaH6PaeNiiKSFxKDTTr91Si3nkV\"\n",
            "        ],\n",
            "        \"script_type\": \"pay-to-pubkey-hash\",\n",
            "        \"age\": 2585183\n",
            "      }\n",
            "    ],\n",
            "    \"outputs\": [\n",
            "      {\n",
            "        \"value\": 0,\n",
            "        \"script\": \"002103531078c380cf138d37603bd0d919d8ab6a2fbe65f15e86817ef2984390e0b1c521030417fb72b766a7f1a8fab499e3c9237c2071fe900609404337caf1a64c85287e2102fb4a1ad948a04bcfd9d3c9a9a0fdb4228d3a3ca3c3f93a882d9765944197ad6621026e9bbeb0df9890b1e6d060412d5455ea1a1e31a2cf0b937a1691da849135511caf\",\n",
            "        \"addresses\": null,\n",
            "        \"script_type\": \"unknown\"\n",
            "      },\n",
            "      {\n",
            "        \"value\": 0,\n",
            "        \"script\": \"002103531078c380cf138d37603bd0d919d8ab6a2fbe65f15e86817ef2984390e0b1c521030417fb72b766a7f1a8fab499e3c9237c2071fe900609404337caf1a64c85287e2102fb4a1ad948a04bcfd9d3c9a9a0fdb4228d3a3ca3c3f93a882d9765944197ad6621026e9bbeb0df9890b1e6d060412d5455ea1a1e31a2cf0b937a1691da849135511caf\",\n",
            "        \"addresses\": null,\n",
            "        \"script_type\": \"unknown\"\n",
            "      },\n",
            "      {\n",
            "        \"value\": 0,\n",
            "        \"script\": \"002103531078c380cf138d37603bd0d919d8ab6a2fbe65f15e86817ef2984390e0b1c521030417fb72b766a7f1a8fab499e3c9237c2071fe900609404337caf1a64c85287e2102fb4a1ad948a04bcfd9d3c9a9a0fdb4228d3a3ca3c3f93a882d9765944197ad6621026e9bbeb0df9890b1e6d060412d5455ea1a1e31a2cf0b937a1691da849135511caf\",\n",
            "        \"addresses\": null,\n",
            "        \"script_type\": \"unknown\"\n",
            "      },\n",
            "      {\n",
            "        \"value\": 0,\n",
            "        \"script\": \"002103531078c380cf138d37603bd0d919d8ab6a2fbe65f15e86817ef2984390e0b1c521030417fb72b766a7f1a8fab499e3c9237c2071fe900609404337caf1a64c85287e2102fb4a1ad948a04bcfd9d3c9a9a0fdb4228d3a3ca3c3f93a882d9765944197ad6621026e9bbeb0df9890b1e6d060412d5455ea1a1e31a2cf0b937a1691da849135511caf\",\n",
            "        \"addresses\": null,\n",
            "        \"script_type\": \"unknown\"\n",
            "      },\n",
            "      {\n",
            "        \"value\": 0,\n",
            "        \"script\": \"002103531078c380cf138d37603bd0d919d8ab6a2fbe65f15e86817ef2984390e0b1c521030417fb72b766a7f1a8fab499e3c9237c2071fe900609404337caf1a64c85287e2102fb4a1ad948a04bcfd9d3c9a9a0fdb4228d3a3ca3c3f93a882d9765944197ad6621026e9bbeb0df9890b1e6d060412d5455ea1a1e31a2cf0b937a1691da849135511caf\",\n",
            "        \"addresses\": null,\n",
            "        \"script_type\": \"unknown\"\n",
            "      }\n",
            "    ]\n",
            "  }\n",
            "}\n"
          ]
        }
      ],
      "source": [
        "from sys import exit\n",
        "from bitcoin.core.script import *\n",
        "\n",
        "#Run the key generation code at the beginning of this notebook multiple times\n",
        "#to create private keys and addresses for the employees.\n",
        "employee1_private_key = CBitcoinSecret('cTPArq2qqkPQpsYBnrJ3c1GUCqgRVnXd9ghi2tz71wamGNdUARyZ')\n",
        "employee1_public_key = employee1_private_key.pub\n",
        "employee2_private_key = CBitcoinSecret('cPtDFPWefDDx516zSsSccEopSrV1rs3sY3K4QL7uMMFHi6ENZGMD')\n",
        "employee2_public_key = employee2_private_key.pub\n",
        "employee3_private_key = CBitcoinSecret('cRgEMFSVY2B1P9faPHcULeJdHjLP2z5F7mXhDtwrePf81bzLRat4')\n",
        "employee3_public_key = employee3_private_key.pub\n",
        "\n",
        "######################################################################\n",
        "# TODO: Complete the scriptPubKey implementation for Exercise 3\n",
        "\n",
        "# You can assume the role of the manager for the purposes of this problem\n",
        "# and use my_public_key and my_private_key in lieu of manager_public_key and\n",
        "\n",
        "manager_public_key = my_public_key\n",
        "manager_private_key = my_private_key\n",
        "# manager_private_key.\n",
        "\n",
        "ex3a_txout_scriptPubKey = [OP_0,\n",
        "                           # any can sign\n",
        "                           employee1_public_key,\n",
        "                           employee2_public_key,\n",
        "                           employee3_public_key,\n",
        "                           manager_public_key,\n",
        "                           OP_CHECKMULTISIGVERIFY\n",
        "                           ]\n",
        "######################################################################\n",
        "\n",
        "######################################################################\n",
        "# TODO: set these parameters correctly\n",
        "amount_to_send = 0.0000000077\n",
        "txid_to_spend = ('9fc024992a9dbabd35364184bb706e3953419727c03d389d202fc5f7e01d0b4b')\n",
        "utxo_index = 4\n",
        "######################################################################\n",
        "\n",
        "response = send_from_P2PKH_transaction(amount_to_send, txid_to_spend, utxo_index, ex3a_txout_scriptPubKey)\n",
        "print(response.status_code, response.reason)\n",
        "print(response.text)"
      ]
    },
    {
      "cell_type": "markdown",
      "metadata": {
        "id": "mZp7c6ftXcke"
      },
      "source": [
        "\n",
        "In the second part, you will redeem the transaction. Keep scriptPubKey  as small as you can. One can use any legal combination of signatures to redeem the transaction but make sure that all combinations would have worked."
      ]
    },
    {
      "cell_type": "code",
      "execution_count": 108,
      "metadata": {
        "colab": {
          "base_uri": "https://localhost:8080/",
          "height": 356
        },
        "id": "Em2Bf9UxrOs5",
        "outputId": "c4f1bbef-057c-439f-e915-2b03c1887283"
      },
      "outputs": [
        {
          "ename": "AttributeError",
          "evalue": "'list' object has no attribute 'is_witness_scriptpubkey'",
          "output_type": "error",
          "traceback": [
            "\u001b[0;31m---------------------------------------------------------------------------\u001b[0m",
            "\u001b[0;31mAttributeError\u001b[0m                            Traceback (most recent call last)",
            "\u001b[0;32m<ipython-input-108-62e316e71a27>\u001b[0m in \u001b[0;36m<cell line: 51>\u001b[0;34m()\u001b[0m\n\u001b[1;32m     49\u001b[0m \u001b[0mtxout_scriptPubKey\u001b[0m \u001b[0;34m=\u001b[0m \u001b[0mfaucet_address\u001b[0m\u001b[0;34m.\u001b[0m\u001b[0mto_scriptPubKey\u001b[0m\u001b[0;34m(\u001b[0m\u001b[0;34m)\u001b[0m\u001b[0;34m\u001b[0m\u001b[0;34m\u001b[0m\u001b[0m\n\u001b[1;32m     50\u001b[0m \u001b[0;34m\u001b[0m\u001b[0m\n\u001b[0;32m---> 51\u001b[0;31m \u001b[0mresponse\u001b[0m \u001b[0;34m=\u001b[0m \u001b[0msend_from_multisig_transaction\u001b[0m\u001b[0;34m(\u001b[0m\u001b[0mamount_to_send\u001b[0m\u001b[0;34m,\u001b[0m \u001b[0mtxid_to_spend\u001b[0m\u001b[0;34m,\u001b[0m \u001b[0mutxo_index\u001b[0m\u001b[0;34m,\u001b[0m \u001b[0mtxin_scriptPubKey\u001b[0m\u001b[0;34m,\u001b[0m \u001b[0mtxout_scriptPubKey\u001b[0m\u001b[0;34m)\u001b[0m\u001b[0;34m\u001b[0m\u001b[0;34m\u001b[0m\u001b[0m\n\u001b[0m\u001b[1;32m     52\u001b[0m \u001b[0mprint\u001b[0m\u001b[0;34m(\u001b[0m\u001b[0mresponse\u001b[0m\u001b[0;34m.\u001b[0m\u001b[0mstatus_code\u001b[0m\u001b[0;34m,\u001b[0m \u001b[0mresponse\u001b[0m\u001b[0;34m.\u001b[0m\u001b[0mreason\u001b[0m\u001b[0;34m)\u001b[0m\u001b[0;34m\u001b[0m\u001b[0;34m\u001b[0m\u001b[0m\n\u001b[1;32m     53\u001b[0m \u001b[0mprint\u001b[0m\u001b[0;34m(\u001b[0m\u001b[0mresponse\u001b[0m\u001b[0;34m.\u001b[0m\u001b[0mtext\u001b[0m\u001b[0;34m)\u001b[0m\u001b[0;34m\u001b[0m\u001b[0;34m\u001b[0m\u001b[0m\n",
            "\u001b[0;32m<ipython-input-108-62e316e71a27>\u001b[0m in \u001b[0;36msend_from_multisig_transaction\u001b[0;34m(amount_to_send, txid_to_spend, utxo_index, txin_scriptPubKey, txout_scriptPubKey)\u001b[0m\n\u001b[1;32m     32\u001b[0m \u001b[0;34m\u001b[0m\u001b[0m\n\u001b[1;32m     33\u001b[0m       \u001b[0;31m#create scriptSig - note that this is different than before (use the multisig_scriptSig function above)\u001b[0m\u001b[0;34m\u001b[0m\u001b[0;34m\u001b[0m\u001b[0m\n\u001b[0;32m---> 34\u001b[0;31m       \u001b[0mtxin\u001b[0m\u001b[0;34m.\u001b[0m\u001b[0mscriptSig\u001b[0m \u001b[0;34m=\u001b[0m \u001b[0mCScript\u001b[0m\u001b[0;34m(\u001b[0m\u001b[0mmultisig_scriptSig\u001b[0m\u001b[0;34m(\u001b[0m\u001b[0mtx\u001b[0m\u001b[0;34m,\u001b[0m \u001b[0mtxin_scriptPubKey\u001b[0m\u001b[0;34m,\u001b[0m \u001b[0memployee_ID\u001b[0m\u001b[0;34m)\u001b[0m\u001b[0;34m)\u001b[0m\u001b[0;34m\u001b[0m\u001b[0;34m\u001b[0m\u001b[0m\n\u001b[0m\u001b[1;32m     35\u001b[0m \u001b[0;34m\u001b[0m\u001b[0m\n\u001b[1;32m     36\u001b[0m \u001b[0;34m\u001b[0m\u001b[0m\n",
            "\u001b[0;32m<ipython-input-108-62e316e71a27>\u001b[0m in \u001b[0;36mmultisig_scriptSig\u001b[0;34m(tx, txin_scriptPubKey, employee_ID)\u001b[0m\n\u001b[1;32m      5\u001b[0m \u001b[0;31m#emplfromoyee ID is 1,2 or 3\u001b[0m\u001b[0;34m\u001b[0m\u001b[0;34m\u001b[0m\u001b[0m\n\u001b[1;32m      6\u001b[0m \u001b[0;32mdef\u001b[0m \u001b[0mmultisig_scriptSig\u001b[0m\u001b[0;34m(\u001b[0m\u001b[0mtx\u001b[0m\u001b[0;34m,\u001b[0m \u001b[0mtxin_scriptPubKey\u001b[0m\u001b[0;34m,\u001b[0m \u001b[0memployee_ID\u001b[0m\u001b[0;34m)\u001b[0m\u001b[0;34m:\u001b[0m\u001b[0;34m\u001b[0m\u001b[0;34m\u001b[0m\u001b[0m\n\u001b[0;32m----> 7\u001b[0;31m     \u001b[0mmanager_sig\u001b[0m \u001b[0;34m=\u001b[0m \u001b[0mcreate_OP_CHECKSIG_signature\u001b[0m\u001b[0;34m(\u001b[0m\u001b[0mtx\u001b[0m\u001b[0;34m,\u001b[0m \u001b[0mtxin_scriptPubKey\u001b[0m\u001b[0;34m,\u001b[0m \u001b[0mmy_private_key\u001b[0m\u001b[0;34m)\u001b[0m\u001b[0;34m\u001b[0m\u001b[0;34m\u001b[0m\u001b[0m\n\u001b[0m\u001b[1;32m      8\u001b[0m     \u001b[0;32mif\u001b[0m \u001b[0memployee_ID\u001b[0m \u001b[0;34m==\u001b[0m \u001b[0;36m1\u001b[0m\u001b[0;34m:\u001b[0m\u001b[0;34m\u001b[0m\u001b[0;34m\u001b[0m\u001b[0m\n\u001b[1;32m      9\u001b[0m       \u001b[0memployee_sig\u001b[0m \u001b[0;34m=\u001b[0m \u001b[0mcreate_OP_CHECKSIG_signature\u001b[0m\u001b[0;34m(\u001b[0m\u001b[0mtx\u001b[0m\u001b[0;34m,\u001b[0m \u001b[0mtxin_scriptPubKey\u001b[0m\u001b[0;34m,\u001b[0m \u001b[0memployee1_private_key\u001b[0m\u001b[0;34m)\u001b[0m\u001b[0;34m\u001b[0m\u001b[0;34m\u001b[0m\u001b[0m\n",
            "\u001b[0;32m<ipython-input-14-16ff0ad99f84>\u001b[0m in \u001b[0;36mcreate_OP_CHECKSIG_signature\u001b[0;34m(tx, txin_scriptPubKey, seckey)\u001b[0m\n\u001b[1;32m      8\u001b[0m     \u001b[0;31m#We want no parts of the transaction to be changed.\u001b[0m\u001b[0;34m\u001b[0m\u001b[0;34m\u001b[0m\u001b[0m\n\u001b[1;32m      9\u001b[0m     \u001b[0;31m#Hence, we hash all the transaction before signing it (i.e.: SIGHASH_ALL).\u001b[0m\u001b[0;34m\u001b[0m\u001b[0;34m\u001b[0m\u001b[0m\n\u001b[0;32m---> 10\u001b[0;31m     \u001b[0msighash\u001b[0m \u001b[0;34m=\u001b[0m \u001b[0mSignatureHash\u001b[0m\u001b[0;34m(\u001b[0m\u001b[0mtxin_scriptPubKey\u001b[0m\u001b[0;34m,\u001b[0m \u001b[0mtx\u001b[0m\u001b[0;34m,\u001b[0m \u001b[0;36m0\u001b[0m\u001b[0;34m,\u001b[0m \u001b[0mSIGHASH_ALL\u001b[0m\u001b[0;34m)\u001b[0m\u001b[0;34m\u001b[0m\u001b[0;34m\u001b[0m\u001b[0m\n\u001b[0m\u001b[1;32m     11\u001b[0m     \u001b[0msignature\u001b[0m \u001b[0;34m=\u001b[0m \u001b[0mseckey\u001b[0m\u001b[0;34m.\u001b[0m\u001b[0msign\u001b[0m\u001b[0;34m(\u001b[0m\u001b[0msighash\u001b[0m\u001b[0;34m)\u001b[0m \u001b[0;34m+\u001b[0m \u001b[0mbytes\u001b[0m\u001b[0;34m(\u001b[0m\u001b[0;34m[\u001b[0m\u001b[0mSIGHASH_ALL\u001b[0m\u001b[0;34m]\u001b[0m\u001b[0;34m)\u001b[0m\u001b[0;34m\u001b[0m\u001b[0;34m\u001b[0m\u001b[0m\n\u001b[1;32m     12\u001b[0m     \u001b[0;32mreturn\u001b[0m \u001b[0msignature\u001b[0m\u001b[0;34m\u001b[0m\u001b[0;34m\u001b[0m\u001b[0m\n",
            "\u001b[0;32m/usr/local/lib/python3.10/dist-packages/bitcoin/core/script.py\u001b[0m in \u001b[0;36mSignatureHash\u001b[0;34m(script, txTo, inIdx, hashtype, amount, sigversion)\u001b[0m\n\u001b[1;32m   1023\u001b[0m         \u001b[0;32mreturn\u001b[0m \u001b[0mbitcoin\u001b[0m\u001b[0;34m.\u001b[0m\u001b[0mcore\u001b[0m\u001b[0;34m.\u001b[0m\u001b[0mHash\u001b[0m\u001b[0;34m(\u001b[0m\u001b[0mf\u001b[0m\u001b[0;34m.\u001b[0m\u001b[0mgetvalue\u001b[0m\u001b[0;34m(\u001b[0m\u001b[0;34m)\u001b[0m\u001b[0;34m)\u001b[0m\u001b[0;34m\u001b[0m\u001b[0;34m\u001b[0m\u001b[0m\n\u001b[1;32m   1024\u001b[0m \u001b[0;34m\u001b[0m\u001b[0m\n\u001b[0;32m-> 1025\u001b[0;31m     \u001b[0;32massert\u001b[0m \u001b[0;32mnot\u001b[0m \u001b[0mscript\u001b[0m\u001b[0;34m.\u001b[0m\u001b[0mis_witness_scriptpubkey\u001b[0m\u001b[0;34m(\u001b[0m\u001b[0;34m)\u001b[0m\u001b[0;34m\u001b[0m\u001b[0;34m\u001b[0m\u001b[0m\n\u001b[0m\u001b[1;32m   1026\u001b[0m \u001b[0;34m\u001b[0m\u001b[0m\n\u001b[1;32m   1027\u001b[0m     \u001b[0;34m(\u001b[0m\u001b[0mh\u001b[0m\u001b[0;34m,\u001b[0m \u001b[0merr\u001b[0m\u001b[0;34m)\u001b[0m \u001b[0;34m=\u001b[0m \u001b[0mRawSignatureHash\u001b[0m\u001b[0;34m(\u001b[0m\u001b[0mscript\u001b[0m\u001b[0;34m,\u001b[0m \u001b[0mtxTo\u001b[0m\u001b[0;34m,\u001b[0m \u001b[0minIdx\u001b[0m\u001b[0;34m,\u001b[0m \u001b[0mhashtype\u001b[0m\u001b[0;34m)\u001b[0m\u001b[0;34m\u001b[0m\u001b[0;34m\u001b[0m\u001b[0m\n",
            "\u001b[0;31mAttributeError\u001b[0m: 'list' object has no attribute 'is_witness_scriptpubkey'"
          ]
        }
      ],
      "source": [
        "from sys import exit\n",
        "from bitcoin.core.script import *\n",
        "\n",
        "employee_IDs = [1,2,3]\n",
        "#emplfromoyee ID is 1,2 or 3\n",
        "def multisig_scriptSig(tx, txin_scriptPubKey, employee_ID):\n",
        "    manager_sig = create_OP_CHECKSIG_signature(tx, txin_scriptPubKey, my_private_key)\n",
        "    if employee_ID == 1:\n",
        "      employee_sig = create_OP_CHECKSIG_signature(tx, txin_scriptPubKey, employee1_private_key)\n",
        "    elif employee_ID == 2:\n",
        "      employee_sig = create_OP_CHECKSIG_signature(tx, txin_scriptPubKey, employee2_private_key)\n",
        "    else:\n",
        "      employee_sig = create_OP_CHECKSIG_signature(tx, txin_scriptPubKey, employee3_private_key)\n",
        "    ######################################################################\n",
        "    # TODO: Complete this script to unlock the BTC that was locked in the multisig transaction created in Exercise 3a.\n",
        "    return [ OP_0,\n",
        "        manager_sig,\n",
        "        employee_sig, OP_CHECKMULTISIGVERIFY]\n",
        "    ######################################################################\n",
        "employee_IDs = [1,2,3]\n",
        "\n",
        "def send_from_multisig_transaction(amount_to_send, txid_to_spend, utxo_index, txin_scriptPubKey, txout_scriptPubKey):\n",
        "    #Complete this function, if you have implemented send_from_P2PKH_transaction\n",
        "    #the steps are the same. The main difference is the scripts are given as parameters\n",
        "    #since you will define them below.\n",
        "    for employee_ID in employee_IDs:\n",
        "      txin = CMutableTxIn(COutPoint(lx(txid_to_spend), utxo_index))\n",
        "\n",
        "      txout = CMutableTxOut(amount_to_send, txout_scriptPubKey)\n",
        "\n",
        "      tx = CMutableTransaction([txin], [txout])\n",
        "\n",
        "      #create scriptSig - note that this is different than before (use the multisig_scriptSig function above)\n",
        "      txin.scriptSig = CScript(multisig_scriptSig(tx, txin_scriptPubKey, employee_ID))\n",
        "\n",
        "\n",
        "      VerifyScript(txin.scriptSig, CScript(txin_scriptPubKey), tx, 0, (SCRIPT_VERIFY_P2SH,))\n",
        "\n",
        "    return broadcast_transaction(tx)\n",
        "\n",
        "######################################################################\n",
        "# TODO: set these parameters correctly\n",
        "amount_to_send = 0.00000005\n",
        "txid_to_spend = ('9fc024992a9dbabd35364184bb706e3953419727c03d389d202fc5f7e01d0b4b')\n",
        "utxo_index = 3\n",
        "######################################################################\n",
        "\n",
        "txin_scriptPubKey = ex3a_txout_scriptPubKey\n",
        "txout_scriptPubKey = faucet_address.to_scriptPubKey()\n",
        "\n",
        "response = send_from_multisig_transaction(amount_to_send, txid_to_spend, utxo_index, txin_scriptPubKey, txout_scriptPubKey)\n",
        "print(response.status_code, response.reason)\n",
        "print(response.text)"
      ]
    },
    {
      "cell_type": "markdown",
      "metadata": {
        "id": "Xegw2yFWe075"
      },
      "source": [
        "##Part 4: This is the same with the practice\n",
        "\n",
        "Redirect all remaining UTXOs to faucet"
      ]
    },
    {
      "cell_type": "code",
      "execution_count": 114,
      "metadata": {
        "colab": {
          "base_uri": "https://localhost:8080/",
          "height": 356
        },
        "id": "oIuZJ5ivexxX",
        "outputId": "b50b9670-1d6f-4371-f5d6-c22ffe0f1adf"
      },
      "outputs": [
        {
          "ename": "VerifyScriptError",
          "evalue": "scriptPubKey returned false",
          "output_type": "error",
          "traceback": [
            "\u001b[0;31m---------------------------------------------------------------------------\u001b[0m",
            "\u001b[0;31mVerifyScriptError\u001b[0m                         Traceback (most recent call last)",
            "\u001b[0;32m<ipython-input-114-35b271720c23>\u001b[0m in \u001b[0;36m<cell line: 30>\u001b[0;34m()\u001b[0m\n\u001b[1;32m     28\u001b[0m \u001b[0;31m######################################################################\u001b[0m\u001b[0;34m\u001b[0m\u001b[0;34m\u001b[0m\u001b[0m\n\u001b[1;32m     29\u001b[0m \u001b[0;34m\u001b[0m\u001b[0m\n\u001b[0;32m---> 30\u001b[0;31m \u001b[0mresponse\u001b[0m \u001b[0;34m=\u001b[0m \u001b[0msend_multiple_from_P2PKH_transaction\u001b[0m\u001b[0;34m(\u001b[0m\u001b[0mamount_to_send\u001b[0m\u001b[0;34m,\u001b[0m \u001b[0mtxid_to_spend\u001b[0m\u001b[0;34m,\u001b[0m \u001b[0mutxo_indexes\u001b[0m\u001b[0;34m,\u001b[0m \u001b[0mtxout_scriptPubKey\u001b[0m\u001b[0;34m)\u001b[0m\u001b[0;34m\u001b[0m\u001b[0;34m\u001b[0m\u001b[0m\n\u001b[0m\u001b[1;32m     31\u001b[0m \u001b[0mprint\u001b[0m\u001b[0;34m(\u001b[0m\u001b[0mresponse\u001b[0m\u001b[0;34m.\u001b[0m\u001b[0mstatus_code\u001b[0m\u001b[0;34m,\u001b[0m \u001b[0mresponse\u001b[0m\u001b[0;34m.\u001b[0m\u001b[0mreason\u001b[0m\u001b[0;34m)\u001b[0m\u001b[0;34m\u001b[0m\u001b[0;34m\u001b[0m\u001b[0m\n\u001b[1;32m     32\u001b[0m \u001b[0mprint\u001b[0m\u001b[0;34m(\u001b[0m\u001b[0mresponse\u001b[0m\u001b[0;34m.\u001b[0m\u001b[0mtext\u001b[0m\u001b[0;34m)\u001b[0m\u001b[0;34m\u001b[0m\u001b[0;34m\u001b[0m\u001b[0m\n",
            "\u001b[0;32m<ipython-input-114-35b271720c23>\u001b[0m in \u001b[0;36msend_multiple_from_P2PKH_transaction\u001b[0;34m(amount_to_send, txid_to_spend, utxo_indexes, txout_scriptPubKey)\u001b[0m\n\u001b[1;32m     17\u001b[0m       \u001b[0msignature\u001b[0m \u001b[0;34m=\u001b[0m \u001b[0mseckey\u001b[0m\u001b[0;34m.\u001b[0m\u001b[0msign\u001b[0m\u001b[0;34m(\u001b[0m\u001b[0msighash\u001b[0m\u001b[0;34m)\u001b[0m \u001b[0;34m+\u001b[0m \u001b[0mbytes\u001b[0m\u001b[0;34m(\u001b[0m\u001b[0;34m[\u001b[0m\u001b[0mSIGHASH_ALL\u001b[0m\u001b[0;34m]\u001b[0m\u001b[0;34m)\u001b[0m\u001b[0;34m\u001b[0m\u001b[0;34m\u001b[0m\u001b[0m\n\u001b[1;32m     18\u001b[0m       \u001b[0mtxins\u001b[0m\u001b[0;34m[\u001b[0m\u001b[0minput_index\u001b[0m\u001b[0;34m]\u001b[0m\u001b[0;34m.\u001b[0m\u001b[0mscriptSig\u001b[0m \u001b[0;34m=\u001b[0m \u001b[0mCScript\u001b[0m\u001b[0;34m(\u001b[0m\u001b[0;34m[\u001b[0m\u001b[0msignature\u001b[0m\u001b[0;34m,\u001b[0m \u001b[0mmy_public_key\u001b[0m\u001b[0;34m]\u001b[0m\u001b[0;34m)\u001b[0m\u001b[0;34m\u001b[0m\u001b[0;34m\u001b[0m\u001b[0m\n\u001b[0;32m---> 19\u001b[0;31m       \u001b[0mVerifyScript\u001b[0m\u001b[0;34m(\u001b[0m\u001b[0mtxins\u001b[0m\u001b[0;34m[\u001b[0m\u001b[0minput_index\u001b[0m\u001b[0;34m]\u001b[0m\u001b[0;34m.\u001b[0m\u001b[0mscriptSig\u001b[0m\u001b[0;34m,\u001b[0m \u001b[0mtxin_scriptPubKey\u001b[0m\u001b[0;34m,\u001b[0m \u001b[0mtx\u001b[0m\u001b[0;34m,\u001b[0m \u001b[0minput_index\u001b[0m\u001b[0;34m,\u001b[0m \u001b[0;34m(\u001b[0m\u001b[0mSCRIPT_VERIFY_P2SH\u001b[0m\u001b[0;34m,\u001b[0m\u001b[0;34m)\u001b[0m\u001b[0;34m)\u001b[0m\u001b[0;34m\u001b[0m\u001b[0;34m\u001b[0m\u001b[0m\n\u001b[0m\u001b[1;32m     20\u001b[0m     \u001b[0;32mreturn\u001b[0m \u001b[0mbroadcast_transaction\u001b[0m\u001b[0;34m(\u001b[0m\u001b[0mtx\u001b[0m\u001b[0;34m)\u001b[0m\u001b[0;34m\u001b[0m\u001b[0;34m\u001b[0m\u001b[0m\n\u001b[1;32m     21\u001b[0m \u001b[0;34m\u001b[0m\u001b[0m\n",
            "\u001b[0;32m/usr/local/lib/python3.10/dist-packages/bitcoin/core/scripteval.py\u001b[0m in \u001b[0;36mVerifyScript\u001b[0;34m(scriptSig, scriptPubKey, txTo, inIdx, flags)\u001b[0m\n\u001b[1;32m    756\u001b[0m         \u001b[0;32mraise\u001b[0m \u001b[0mVerifyScriptError\u001b[0m\u001b[0;34m(\u001b[0m\u001b[0;34m\"scriptPubKey left an empty stack\"\u001b[0m\u001b[0;34m)\u001b[0m\u001b[0;34m\u001b[0m\u001b[0;34m\u001b[0m\u001b[0m\n\u001b[1;32m    757\u001b[0m     \u001b[0;32mif\u001b[0m \u001b[0;32mnot\u001b[0m \u001b[0m_CastToBool\u001b[0m\u001b[0;34m(\u001b[0m\u001b[0mstack\u001b[0m\u001b[0;34m[\u001b[0m\u001b[0;34m-\u001b[0m\u001b[0;36m1\u001b[0m\u001b[0;34m]\u001b[0m\u001b[0;34m)\u001b[0m\u001b[0;34m:\u001b[0m\u001b[0;34m\u001b[0m\u001b[0;34m\u001b[0m\u001b[0m\n\u001b[0;32m--> 758\u001b[0;31m         \u001b[0;32mraise\u001b[0m \u001b[0mVerifyScriptError\u001b[0m\u001b[0;34m(\u001b[0m\u001b[0;34m\"scriptPubKey returned false\"\u001b[0m\u001b[0;34m)\u001b[0m\u001b[0;34m\u001b[0m\u001b[0;34m\u001b[0m\u001b[0m\n\u001b[0m\u001b[1;32m    759\u001b[0m \u001b[0;34m\u001b[0m\u001b[0m\n\u001b[1;32m    760\u001b[0m     \u001b[0;31m# Additional validation for spend-to-script-hash transactions\u001b[0m\u001b[0;34m\u001b[0m\u001b[0;34m\u001b[0m\u001b[0m\n",
            "\u001b[0;31mVerifyScriptError\u001b[0m: scriptPubKey returned false"
          ]
        }
      ],
      "source": [
        "from bitcoin.core.script import *\n",
        "\n",
        "def send_multiple_from_P2PKH_transaction(amount_to_send, txid_to_spend, utxo_indexes, txout_scriptPubKey):\n",
        "    txins = [CMutableTxIn(COutPoint(lx(txid_to_spend), utxo_index)) for utxo_index in utxo_indexes];\n",
        "    #Fill the txin list with the remaining transactions (txins)\n",
        "      #you may use a for loop here so there can be a number of statements\n",
        "\n",
        "    #You will have a single txout create it (txout)\n",
        "    txout = CMutableTxOut(amount_to_send, txout_scriptPubKey)\n",
        "    #Create the transaction (tx)\n",
        "    tx = CMutableTransaction(txins, [txout])\n",
        "\n",
        "    #the function below creates the signature. you do not need to modify it\n",
        "    txin_scriptPubKey = my_address.to_scriptPubKey()\n",
        "    for input_index, utxo_index in enumerate(utxo_indexes):\n",
        "      sighash = SignatureHash(txin_scriptPubKey, tx, input_index, SIGHASH_ALL)\n",
        "      signature = seckey.sign(sighash) + bytes([SIGHASH_ALL])\n",
        "      txins[input_index].scriptSig = CScript([signature, my_public_key])\n",
        "      VerifyScript(txins[input_index].scriptSig, txin_scriptPubKey, tx, input_index, (SCRIPT_VERIFY_P2SH,))\n",
        "    return broadcast_transaction(tx)\n",
        "\n",
        "######################################################################\n",
        "# TODO: set all these parameters correctly\n",
        "amount_to_send = 0.00000015  #Do not forget the fee\n",
        "txid_to_spend = ('764b554df8418619ec0635b11d49b38f5889fc7cdc7d5312f53fb185b2335dd2')\n",
        "utxo_indexes = [0,1,2,3,4]\n",
        "txout_scriptPubKey = faucet_address.to_scriptPubKey() #[OP_DUP ....]\n",
        "######################################################################\n",
        "\n",
        "response = send_multiple_from_P2PKH_transaction(amount_to_send, txid_to_spend, utxo_indexes, txout_scriptPubKey)\n",
        "print(response.status_code, response.reason)\n",
        "print(response.text)"
      ]
    }
  ],
  "metadata": {
    "colab": {
      "provenance": []
    },
    "kernelspec": {
      "display_name": "Python 3",
      "name": "python3"
    }
  },
  "nbformat": 4,
  "nbformat_minor": 0
}
